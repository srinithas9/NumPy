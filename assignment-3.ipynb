{
 "cells": [
  {
   "cell_type": "code",
   "execution_count": 433,
   "id": "e8efb706-cde4-4adb-8a61-792cf859d045",
   "metadata": {},
   "outputs": [],
   "source": [
    "#Assignment-3\n",
    "#NumPy\n",
    "\n"
   ]
  },
  {
   "cell_type": "code",
   "execution_count": 434,
   "id": "1a94694a-44e7-4cd5-a0aa-db22dec2f0a4",
   "metadata": {},
   "outputs": [],
   "source": [
    "import numpy as np"
   ]
  },
  {
   "cell_type": "code",
   "execution_count": 435,
   "id": "ad51a212",
   "metadata": {},
   "outputs": [],
   "source": [
    "import pandas as pd"
   ]
  },
  {
   "cell_type": "code",
   "execution_count": 436,
   "id": "47fa4ac2-c9ae-4f9f-a886-e135f7f71279",
   "metadata": {},
   "outputs": [
    {
     "name": "stdout",
     "output_type": "stream",
     "text": [
      "array: [0 1 2 3 4 5]\n",
      "data type: int64\n"
     ]
    }
   ],
   "source": [
    "#Q1. Create a NumPy array 'arr' of integers from 0 to 5 and print its data type.\n",
    "arr=np.arange(0,6)\n",
    "print(\"array:\",arr)\n",
    "print(\"data type:\", arr.dtype)\n"
   ]
  },
  {
   "cell_type": "code",
   "execution_count": 437,
   "id": "f0f1dfd1-839f-469a-9b88-d8776bee6a74",
   "metadata": {},
   "outputs": [
    {
     "name": "stdout",
     "output_type": "stream",
     "text": [
      "data type: float64\n"
     ]
    }
   ],
   "source": [
    "#Q2. Given a NumPy array 'arr', check if its data type is float64.\n",
    "arr = np.array([1.5, 2.6, 3.7])\n",
    "print(\"data type:\",arr.dtype)"
   ]
  },
  {
   "cell_type": "code",
   "execution_count": 438,
   "id": "ba6286e4-54aa-49f6-83a5-b2b266bc97e3",
   "metadata": {},
   "outputs": [
    {
     "name": "stdout",
     "output_type": "stream",
     "text": [
      "data type: complex128\n"
     ]
    }
   ],
   "source": [
    "#Q3. Create a NumPy array 'arr' with a data type of complex128 containing three complex numbers.\n",
    "arr=np.array([3+6j,4+8j,5+9j])\n",
    "print(\"data type:\",arr.dtype)\n"
   ]
  },
  {
   "cell_type": "code",
   "execution_count": 439,
   "id": "c1cfe4c4-ee23-47a5-bc29-e9a5ae8772b7",
   "metadata": {},
   "outputs": [
    {
     "name": "stdout",
     "output_type": "stream",
     "text": [
      "data type: float32\n"
     ]
    }
   ],
   "source": [
    "#Q4. Convert an existing NumPy array 'arr' of integers to float32 data type.\n",
    "arr=np.array([1,2,3,4,5.1])\n",
    "print(\"data type:\",arr.astype(np.float32).dtype)\n",
    "\n"
   ]
  },
  {
   "cell_type": "code",
   "execution_count": 440,
   "id": "1aae312a-67f7-401c-b7e5-c5049b070921",
   "metadata": {},
   "outputs": [
    {
     "name": "stdout",
     "output_type": "stream",
     "text": [
      "data type: float32\n"
     ]
    }
   ],
   "source": [
    "#Q5. Given a NumPy array 'arr' with float64 data type, convert it to float32 to reduce decimal precision.\n",
    "arr=np.arange(0.1,6.0)\n",
    "print(\"data type:\",arr.astype(np.float32).dtype)"
   ]
  },
  {
   "cell_type": "code",
   "execution_count": 441,
   "id": "d3c4b8be-12d6-4c87-b85f-f732dc587d19",
   "metadata": {},
   "outputs": [
    {
     "name": "stdout",
     "output_type": "stream",
     "text": [
      "shape: (10,)\n",
      "size: 10\n",
      "data type: int64\n"
     ]
    }
   ],
   "source": [
    "#Q6. Write a function array_attributes that takes a NumPy array as input and returns its shape, size, and data type.\n",
    "def array_attributes():\n",
    "    arr=np.array(np.arange(10))\n",
    "    print(\"shape:\",arr.shape)\n",
    "    print(\"size:\",arr.size)\n",
    "    print(\"data type:\",arr.dtype)\n",
    "array_attributes()   \n",
    "\n",
    "\n",
    "\n"
   ]
  },
  {
   "cell_type": "code",
   "execution_count": 442,
   "id": "380aad90-fd83-4984-a1f4-37564560ff63",
   "metadata": {},
   "outputs": [
    {
     "name": "stdout",
     "output_type": "stream",
     "text": [
      "dimension: 2\n"
     ]
    }
   ],
   "source": [
    "#Q7. Create a function array_dimension that takes a NumPy array as input and returns its dimensionality.\n",
    "def array_dimension():\n",
    "    arr=np.array([[1,2,3,4],[5,6,7,8]])\n",
    "    print(\"dimension:\",arr.ndim)\n",
    "array_dimension()    "
   ]
  },
  {
   "cell_type": "code",
   "execution_count": 443,
   "id": "4fd4315b-0183-4697-94b7-eaf5b8601589",
   "metadata": {},
   "outputs": [
    {
     "name": "stdout",
     "output_type": "stream",
     "text": [
      "item_size 8\n",
      "total_size 80\n"
     ]
    }
   ],
   "source": [
    "#Q8. Design a function item_size_info that takes a NumPy array as input and returns the item size and the total size in bytes.\n",
    "def item_size_info():\n",
    "    arr=np.array(np.arange(10))\n",
    "    print(\"item_size\",arr.itemsize)\n",
    "    print(\"total_size\",arr.nbytes)\n",
    "item_size_info()    \n"
   ]
  },
  {
   "cell_type": "code",
   "execution_count": 444,
   "id": "77c6a7b5-2047-4cd0-ae7c-f8f4ce071446",
   "metadata": {},
   "outputs": [
    {
     "name": "stdout",
     "output_type": "stream",
     "text": [
      "strides: (8,)\n"
     ]
    }
   ],
   "source": [
    "#Q9. Create a function array_strides that takes a NumPy array as input and returns the strides of the array.\n",
    "def array_stride():\n",
    "    arr=np.array(np.arange(10))\n",
    "    print(\"strides:\",arr.strides)\n",
    "array_stride() "
   ]
  },
  {
   "cell_type": "code",
   "execution_count": 445,
   "id": "5c5b1494-2b6b-44a8-ab68-10faca77bbbc",
   "metadata": {},
   "outputs": [
    {
     "name": "stdout",
     "output_type": "stream",
     "text": [
      "shape: (10,)\n",
      "strides: (8,)\n"
     ]
    }
   ],
   "source": [
    "#Q10. Design a function shape_stride_relationship that takes a NumPy array as input and returns the shape and strides of the array\n",
    "def shape_stride_relationship():\n",
    "    arr=np.array(np.arange(10))\n",
    "    print(\"shape:\",arr.shape)\n",
    "    print(\"strides:\",arr.strides)\n",
    "shape_stride_relationship()    \n",
    "\n"
   ]
  },
  {
   "cell_type": "code",
   "execution_count": 446,
   "id": "55effb79-2e7e-4d36-9127-8e4e4c420638",
   "metadata": {},
   "outputs": [
    {
     "data": {
      "text/plain": [
       "array([0., 0., 0., 0., 0., 0.])"
      ]
     },
     "execution_count": 446,
     "metadata": {},
     "output_type": "execute_result"
    }
   ],
   "source": [
    "#Q11. Create a function `create_zeros_array` that takes an integer `n` as input and returns a NumPy array of zeros with `n` elements.\n",
    "def create_zeros_array(n):\n",
    "    arr=np.zeros(n)\n",
    "    return arr\n",
    "create_zeros_array(6)"
   ]
  },
  {
   "cell_type": "code",
   "execution_count": 447,
   "id": "957adc70-054f-461a-9d0e-7d5a590e46b0",
   "metadata": {},
   "outputs": [
    {
     "data": {
      "text/plain": [
       "array([[1., 1., 1., 1.],\n",
       "       [1., 1., 1., 1.],\n",
       "       [1., 1., 1., 1.]])"
      ]
     },
     "execution_count": 447,
     "metadata": {},
     "output_type": "execute_result"
    }
   ],
   "source": [
    "#Q12. Write a function `create_ones_matrix` that takes integers `rows` and `cols` as inputs and generates a 2D NumPy array filled with ones of size `rows x cols`.\n",
    "def create_ones_matrix():\n",
    "    arr=np.ones((3,4))\n",
    "    return arr\n",
    "create_ones_matrix()\n"
   ]
  },
  {
   "cell_type": "code",
   "execution_count": 448,
   "id": "60fc6e44-179f-4fa3-b26e-c495ba112798",
   "metadata": {},
   "outputs": [
    {
     "data": {
      "text/plain": [
       "array([ 0,  2,  4,  6,  8, 10, 12, 14, 16, 18])"
      ]
     },
     "execution_count": 448,
     "metadata": {},
     "output_type": "execute_result"
    }
   ],
   "source": [
    "#Q13. Write a function `generate_range_array` that takes three integers start, stop, and step as arguments and creates a NumPy array with a range starting from `start`, ending at stop (exclusive), and with the specified `step`.\n",
    "def generate_range_array(start,stop,step):\n",
    "    arr=np.arange(start,stop,step)\n",
    "    return arr\n",
    "generate_range_array(0,20,2)"
   ]
  },
  {
   "cell_type": "code",
   "execution_count": 449,
   "id": "77d0934c-877a-4403-bfd7-12f8e4a89d09",
   "metadata": {},
   "outputs": [
    {
     "data": {
      "text/plain": [
       "array([ 1.        ,  2.03571429,  3.07142857,  4.10714286,  5.14285714,\n",
       "        6.17857143,  7.21428571,  8.25      ,  9.28571429, 10.32142857,\n",
       "       11.35714286, 12.39285714, 13.42857143, 14.46428571, 15.5       ])"
      ]
     },
     "execution_count": 449,
     "metadata": {},
     "output_type": "execute_result"
    }
   ],
   "source": [
    "#Q14. Design a function `generate_linear_space` that takes two floats `start`, `stop`, and an integer `num` as arguments and generates a NumPy array with num equally spaced values between `start` and `stop` (inclusive).\n",
    "def generate_linear_space(start,stop,num):\n",
    "    arr=np.linspace(start,stop,num)\n",
    "    return arr\n",
    "generate_linear_space(1.0,15.5,15)\n"
   ]
  },
  {
   "cell_type": "code",
   "execution_count": 450,
   "id": "dc901892-8379-4790-ba9f-ac8119e0e853",
   "metadata": {},
   "outputs": [
    {
     "data": {
      "text/plain": [
       "array([[1., 0., 0., 0.],\n",
       "       [0., 1., 0., 0.],\n",
       "       [0., 0., 1., 0.],\n",
       "       [0., 0., 0., 1.]])"
      ]
     },
     "execution_count": 450,
     "metadata": {},
     "output_type": "execute_result"
    }
   ],
   "source": [
    "#Q15. Create a function `create_identity_matrix` that takes an integer `n` as input and generates a square identity matrix of size `n x n` using `numpy.eye`.\n",
    "def create_identity_matrix(n):\n",
    "    arr=np.eye(n)\n",
    "    return arr\n",
    "create_identity_matrix(4)"
   ]
  },
  {
   "cell_type": "code",
   "execution_count": 451,
   "id": "f8c6aef0-a1fa-4a26-a402-a94dec5e1bdb",
   "metadata": {},
   "outputs": [
    {
     "data": {
      "text/plain": [
       "array([ 1,  2,  3,  4,  7,  8,  9, 19])"
      ]
     },
     "execution_count": 451,
     "metadata": {},
     "output_type": "execute_result"
    }
   ],
   "source": [
    "#Q16. Write a function that takes a Python list and converts it into a NumPy array.\n",
    "def list_to_array(l):\n",
    "    arr=np.array(l)\n",
    "    return arr\n",
    "list_to_array([1,2,3,4,7,8,9,19])"
   ]
  },
  {
   "cell_type": "code",
   "execution_count": 452,
   "id": "2d314f66-8d7c-48ac-b0c0-7da4e66fe409",
   "metadata": {},
   "outputs": [
    {
     "name": "stdout",
     "output_type": "stream",
     "text": [
      "[0 1 2 3 4 5 6 7 8 9]\n"
     ]
    }
   ],
   "source": [
    "#Q17. Create a NumPy array and demonstrate the use of `numpy.view` to create a new array object with the same data.\n",
    "arr=np.arange(10)\n",
    "a=arr.view()\n",
    "print(a)"
   ]
  },
  {
   "cell_type": "code",
   "execution_count": 453,
   "id": "77fa532c-d780-4345-8542-970870183c3e",
   "metadata": {},
   "outputs": [
    {
     "name": "stdout",
     "output_type": "stream",
     "text": [
      "concatenation of two array: [0.10248345 0.12107632 0.57907873 0.65199579 0.20918154 0.1284689\n",
      " 0.24088418 0.80267945 0.91815678 0.49775398 0.81466299 0.39486712\n",
      " 0.86136568 0.11877056 0.35455551 0.7792446  0.31128371 0.18509957\n",
      " 0.52292128 0.03221754]\n"
     ]
    }
   ],
   "source": [
    "#Q18. Write a function that takes two NumPy arrays and concatenates them along a specified axis. \n",
    "def concatenate_two_arrays(axis):\n",
    "    arr1=np.random.rand(10) \n",
    "    arr2=np.random.rand(10) \n",
    "    print(\"concatenation of two array:\",np.concatenate((arr1, arr2),axis=axis))\n",
    "concatenate_two_arrays(0)"
   ]
  },
  {
   "cell_type": "code",
   "execution_count": 454,
   "id": "0381b2a0-4ec5-4b3d-b4eb-5b79a8aafa16",
   "metadata": {},
   "outputs": [
    {
     "name": "stdout",
     "output_type": "stream",
     "text": [
      "Concatenated Array:\n",
      " [[0.32461634 0.32243161 0.09880756 0.87809212 0.00480937]\n",
      " [0.80522823 0.81550786 0.984226   0.81683924 0.63742788]]\n"
     ]
    }
   ],
   "source": [
    "#Q19. Create two NumPy arrays with different shapes and concatenate them horizontally using `numpy.concatenate`\n",
    "array1=np.random.rand(2,3)\n",
    "array2=np.random.rand(2,2)\n",
    "concatenated_array=np.concatenate((array1,array2),axis=1)\n",
    "print(\"Concatenated Array:\\n\",concatenated_array)\n",
    " "
   ]
  },
  {
   "cell_type": "code",
   "execution_count": 455,
   "id": "cfa1dacb-d58b-409c-8e0a-1b847c0a2446",
   "metadata": {},
   "outputs": [
    {
     "data": {
      "text/plain": [
       "array([[1, 2],\n",
       "       [3, 4],\n",
       "       [5, 6],\n",
       "       [7, 8],\n",
       "       [8, 9],\n",
       "       [3, 4]])"
      ]
     },
     "execution_count": 455,
     "metadata": {},
     "output_type": "execute_result"
    }
   ],
   "source": [
    "#Q20. Write a function that vertically stacks multiple NumPy arrays given as a list.\n",
    "\n",
    "def vertical_stack():\n",
    "    arr1=np.array([[1,2],[3,4]])\n",
    "    arr2=np.array([[5,6],[7,8]])\n",
    "    arr3=np.array([[8,9],[3,4]])\n",
    "    stacked=np.vstack((arr1,arr2,arr3))\n",
    "    return stacked\n",
    "vertical_stack()"
   ]
  },
  {
   "cell_type": "code",
   "execution_count": 456,
   "id": "c1613026-ec62-47c7-91cb-7f1b84cdfe12",
   "metadata": {},
   "outputs": [
    {
     "data": {
      "text/plain": [
       "array([ 1,  4,  7, 10, 13, 16, 19, 22, 25])"
      ]
     },
     "execution_count": 456,
     "metadata": {},
     "output_type": "execute_result"
    }
   ],
   "source": [
    "#Q21. Write a Python function using NumPy to create an array of integers within a specified range (inclusive) with a given step size.\n",
    "def array_of_integers(start,stop,step):\n",
    "    arr=np.arange(start,stop+1,step)\n",
    "    return arr\n",
    "array_of_integers(1,25,3)\n",
    "\n"
   ]
  },
  {
   "cell_type": "code",
   "execution_count": 457,
   "id": "405fb1e7-665b-4c71-9f96-5c139f285580",
   "metadata": {},
   "outputs": [
    {
     "data": {
      "text/plain": [
       "array([0.        , 0.11111111, 0.22222222, 0.33333333, 0.44444444,\n",
       "       0.55555556, 0.66666667, 0.77777778, 0.88888889, 1.        ])"
      ]
     },
     "execution_count": 457,
     "metadata": {},
     "output_type": "execute_result"
    }
   ],
   "source": [
    "#Q22. Write a Python function using NumPy to generate an array of 10 equally spaced values between 0 and 1 (inclusive).\n",
    "def array_of_10():\n",
    "    arr=np.linspace(0, 1, 10)\n",
    "    return arr\n",
    "array_of_10()\n",
    "\n"
   ]
  },
  {
   "cell_type": "code",
   "execution_count": 458,
   "id": "65714ca6-cce1-489d-874a-405d4e8c2caf",
   "metadata": {},
   "outputs": [
    {
     "data": {
      "text/plain": [
       "array([  10.        ,   31.6227766 ,  100.        ,  316.22776602,\n",
       "       1000.        ])"
      ]
     },
     "execution_count": 458,
     "metadata": {},
     "output_type": "execute_result"
    }
   ],
   "source": [
    "#Q23. Write a Python function using NumPy to create an array of 5 logarithmically spaced values between 1 and 1000 (inclusive).\n",
    "def array_of_5():\n",
    "    arr=np.logspace(1,3,5)\n",
    "    return arr\n",
    "array_of_5()"
   ]
  },
  {
   "cell_type": "code",
   "execution_count": 459,
   "id": "f9148943-6dd1-40b0-b548-bdf2e656efdc",
   "metadata": {},
   "outputs": [
    {
     "name": "stdout",
     "output_type": "stream",
     "text": [
      "    0    1   2\n",
      "0   1   31  22\n",
      "1  78  100  80\n",
      "2  85   51  60\n",
      "3  57   90  25\n",
      "4  52    7  28\n"
     ]
    }
   ],
   "source": [
    "#Q24. Create a Pandas DataFrame using a NumPy array that contains 5 rows and 3 columns, where the values are random integers between 1 and 100.\n",
    "arr=np.random.randint(1,101,size=(5,3)) \n",
    "df=pd.DataFrame(arr) \n",
    "print(df)\n"
   ]
  },
  {
   "cell_type": "code",
   "execution_count": 460,
   "id": "9f4efd09-b92c-48d4-8478-7382ff682310",
   "metadata": {},
   "outputs": [
    {
     "name": "stdout",
     "output_type": "stream",
     "text": [
      "     0         1    2    3    4    5    6    7         8    9\n",
      "0  0.0  1.139873  0.0  0.0  0.0  0.0  0.0  0.0  0.219515  0.0\n"
     ]
    }
   ],
   "source": [
    "#Q25. Write a function that takes a Pandas DataFrame and replaces all negative values in a specific column with zeros. Use NumPy operations within the Pandas DataFrame\n",
    "arr=np.random.randn(1,10) \n",
    "df=pd.DataFrame(arr)\n",
    "def replace_negative_with_zero(df):\n",
    "    df[df<0]=0\n",
    "    return df\n",
    "df=replace_negative_with_zero(df)\n",
    "print(df)\n"
   ]
  },
  {
   "cell_type": "code",
   "execution_count": 461,
   "id": "914dd831-15c7-4c2c-825c-9d2ec06bba09",
   "metadata": {},
   "outputs": [
    {
     "name": "stdout",
     "output_type": "stream",
     "text": [
      "40\n"
     ]
    }
   ],
   "source": [
    "#Q26. Access the 3rd element from the given NumPy array.\n",
    "arr = np.array([10, 20, 30, 40, 50])\n",
    "print(arr[3])"
   ]
  },
  {
   "cell_type": "code",
   "execution_count": 462,
   "id": "8bf465a3-4861-4728-80b1-164684b559e3",
   "metadata": {},
   "outputs": [
    {
     "name": "stdout",
     "output_type": "stream",
     "text": [
      "6\n"
     ]
    }
   ],
   "source": [
    "#Q27. Retrieve the element at index (1, 2) from the 2D NumPy array.\n",
    "arr_2d = np.array([[1,2,3],\n",
    "                   [4,5,6],\n",
    "                   [7,8,9]])\n",
    "print(arr_2d[1,2])"
   ]
  },
  {
   "cell_type": "code",
   "execution_count": 463,
   "id": "f2e919c8-06a5-411e-b245-602929076bc8",
   "metadata": {},
   "outputs": [
    {
     "name": "stdout",
     "output_type": "stream",
     "text": [
      "[ 8 10  7]\n"
     ]
    }
   ],
   "source": [
    "#Q28. Using boolean indexing, extract elements greater than 5 from the given NumPy array.\n",
    "arr = np.array([3, 8, 2, 10, 5, 7])\n",
    "elements_greater_than_5=arr[arr>5]\n",
    "print(elements_greater_than_5)\n",
    "\n"
   ]
  },
  {
   "cell_type": "code",
   "execution_count": 464,
   "id": "9f8c0cfd-ea87-4087-997e-b582ed336707",
   "metadata": {},
   "outputs": [
    {
     "name": "stdout",
     "output_type": "stream",
     "text": [
      "[3 4 5 6]\n"
     ]
    }
   ],
   "source": [
    "#Q29. Perform basic slicing to extract elements from index 2 to 5 (inclusive) from the given NumPy array.\n",
    "arr = np.array([1, 2, 3, 4, 5, 6, 7, 8, 9])\n",
    "sliced_array=arr[2:6]\n",
    "print(sliced_array)"
   ]
  },
  {
   "cell_type": "code",
   "execution_count": 465,
   "id": "9d6be923-9e3d-43b5-8414-aca5475fcdc0",
   "metadata": {},
   "outputs": [
    {
     "name": "stdout",
     "output_type": "stream",
     "text": [
      "[[2 3]\n",
      " [5 6]]\n"
     ]
    }
   ],
   "source": [
    "#Q30. Slice the 2D NumPy array to extract the sub-array `[[2, 3], [5, 6]]` from the given array.\n",
    "arr_2d = np.array([[1, 2, 3],\n",
    "                   [4, 5, 6],\n",
    "                   [7, 8, 9]])\n",
    "sub_array=arr_2d[0:2, 1:3] \n",
    "print(sub_array)\n"
   ]
  },
  {
   "cell_type": "code",
   "execution_count": 466,
   "id": "ed50ef4d-5b64-4284-b3b8-82220b591b5e",
   "metadata": {},
   "outputs": [
    {
     "name": "stdout",
     "output_type": "stream",
     "text": [
      "[2 7 6]\n"
     ]
    }
   ],
   "source": [
    "#Q31.Write a NumPy function to extract elements in specific order from a given 2D array based on indices provided in another array.\n",
    "def extract_elements(arr,indices):\n",
    "    return arr[indices[:,0],indices[:,1]]\n",
    "arr_2d=np.array([[1,2,3],\n",
    "                   [4,5,6],\n",
    "                   [7,8,9]])\n",
    "indices=np.array([[0,1], \n",
    "                    [2,0],  \n",
    "                    [1,2]]) \n",
    "print(extract_elements(arr_2d,indices))\n",
    "\n",
    "\n",
    "\n"
   ]
  },
  {
   "cell_type": "code",
   "execution_count": 467,
   "id": "5dccb3c6-3266-4c10-82f8-aec200935617",
   "metadata": {},
   "outputs": [
    {
     "name": "stdout",
     "output_type": "stream",
     "text": [
      "[ 8 10  7]\n"
     ]
    }
   ],
   "source": [
    "#Q32. Create a NumPy function that filters elements greater than a threshold from a given 1D array using boolean indexing.\n",
    "def filter_greater_than(arr,threshold):\n",
    "    return arr[arr>threshold]\n",
    "arr=np.array([3, 8, 2, 10, 5, 7])\n",
    "threshold=5\n",
    "print(filter_greater_than(arr,threshold))\n",
    "\n"
   ]
  },
  {
   "cell_type": "code",
   "execution_count": 468,
   "id": "fa4a8a5d-c4d1-4313-a541-3a4e836321d1",
   "metadata": {},
   "outputs": [
    {
     "name": "stdout",
     "output_type": "stream",
     "text": [
      "[ 6 16 20]\n"
     ]
    }
   ],
   "source": [
    "#Q33. Develop a NumPy function that extracts specific elements from a 3D array using indices provided in three separate arrays for each dimension.\n",
    "def extract_elements(arr,idx0,idx1,idx2):\n",
    "    return arr[idx0,idx1,idx2]\n",
    "arr_3d=np.array([[[ 1, 2, 3],\n",
    "                    [ 4, 5, 6],\n",
    "                    [ 7, 8, 9]],\n",
    "                   [[10,11,12],\n",
    "                    [13,14,15],\n",
    "                    [16,17,18]],\n",
    "                   [[19,20,21],\n",
    "                    [22,23,24],\n",
    "                    [25,26,27]]])\n",
    "idx0=np.array([0, 1, 2])\n",
    "idx1=np.array([1, 2, 0])\n",
    "idx2=np.array([2, 0, 1])\n",
    "print(extract_elements(arr_3d,idx0,idx1,idx2))\n",
    "\n"
   ]
  },
  {
   "cell_type": "code",
   "execution_count": 469,
   "id": "f6504c5a-2afe-4e81-8c5f-e846cafd94b9",
   "metadata": {},
   "outputs": [
    {
     "name": "stdout",
     "output_type": "stream",
     "text": [
      "[ 6  8 10]\n"
     ]
    }
   ],
   "source": [
    "#Q34. Write a NumPy function that returns elements from an array where both two conditions are satisfied using boolean indexing.\n",
    "def elements_satisfying_conditions(arr,cond1,cond2):\n",
    "    result=arr[cond1&cond2]\n",
    "    return result\n",
    "arr=np.array([1,2,3,4,5,6,7,8,9,10])\n",
    "cond1=(arr>4) \n",
    "cond2=(arr%2==0) \n",
    "result=elements_satisfying_conditions(arr,cond1,cond2)\n",
    "print(result)\n",
    "\n"
   ]
  },
  {
   "cell_type": "code",
   "execution_count": 470,
   "id": "cedfb6e9-605f-411c-aab6-7c2193b79189",
   "metadata": {},
   "outputs": [
    {
     "name": "stdout",
     "output_type": "stream",
     "text": [
      "[3 4 8]\n"
     ]
    }
   ],
   "source": [
    "#Q35. Create a NumPy function that extracts elements from a 2D array using row and column indices provided in separate arrays.\n",
    "def extract_elements(arr,row_indices,col_indices):\n",
    "    return arr[row_indices,col_indices]\n",
    "arr=np.array([[1,2,3],[4,5,6],[7,8,9]])\n",
    "row_indices=np.array([0,1,2])\n",
    "col_indices=np.array([2,0,1])\n",
    "print(extract_elements(arr,row_indices,col_indices))\n"
   ]
  },
  {
   "cell_type": "code",
   "execution_count": 471,
   "id": "70f0e427-f78e-405a-892b-2936f3312020",
   "metadata": {},
   "outputs": [
    {
     "name": "stdout",
     "output_type": "stream",
     "text": [
      "[[ 6  7  8]\n",
      " [ 9 10 11]\n",
      " [12 13 14]]\n"
     ]
    }
   ],
   "source": [
    "#Q36. Given an array arr of shape (3, 3), add a scalar value of 5 to each element using NumPy broadcasting.\n",
    "arr=np.array([[1,2,3],[4,5,6],[7,8,9]])\n",
    "print(arr + 5)"
   ]
  },
  {
   "cell_type": "code",
   "execution_count": 472,
   "id": "24489805-a94b-4f6a-86b4-0a0b04ff0d36",
   "metadata": {},
   "outputs": [
    {
     "name": "stdout",
     "output_type": "stream",
     "text": [
      "[[ 1  2  3  4]\n",
      " [10 12 14 16]\n",
      " [27 30 33 36]]\n"
     ]
    }
   ],
   "source": [
    "#Q37. Consider two arrays arr1 of shape (1, 3) and arr2 of shape (3, 4). Multiply each row of arr2 by the corresponding element in arr1 using NumPy broadcasting.\n",
    "arr1=np.array([1,2,3])  \n",
    "arr2=np.array([[1,2,3,4],[5,6,7,8],[9,10,11,12]]) \n",
    "result=arr2*arr1[:,np.newaxis]\n",
    "print(result)\n"
   ]
  },
  {
   "cell_type": "code",
   "execution_count": 473,
   "id": "fc3f1495-30f5-418a-a615-f6cc36b8d790",
   "metadata": {},
   "outputs": [
    {
     "name": "stdout",
     "output_type": "stream",
     "text": [
      "[[ 11  21  31]\n",
      " [ 42  52  62]\n",
      " [ 73  83  93]\n",
      " [104 114 124]]\n"
     ]
    }
   ],
   "source": [
    "#Q38. Given a 1D array arr1 of shape (1, 4) and a 2D array arr2 of shape (4, 3), add arr1 to each row of arr2 using NumPy broadcasting.\n",
    "arr1=np.array([1,2,3,4])\n",
    "arr2=np.array([[10,20,30],\n",
    "                [40,50,60],\n",
    "                [70,80,90],\n",
    "                [100,110,120]])\n",
    "result=arr2+arr1[:,np.newaxis]\n",
    "print(result)\n",
    "\n",
    "\n"
   ]
  },
  {
   "cell_type": "code",
   "execution_count": 474,
   "id": "fc5971ae-2a78-4f6b-8c50-512984365aa4",
   "metadata": {},
   "outputs": [
    {
     "name": "stdout",
     "output_type": "stream",
     "text": [
      "[[5 6 7]\n",
      " [6 7 8]\n",
      " [7 8 9]]\n"
     ]
    }
   ],
   "source": [
    "#Q39. Consider two arrays arr1 of shape (3, 1) and arr2 of shape (1, 3). Add these arrays using NumPy broadcasting.\n",
    "arr1=np.array([[1],[2],[3]]) \n",
    "arr2=np.array([[4,5,6]]) \n",
    "print(arr1+arr2)"
   ]
  },
  {
   "cell_type": "code",
   "execution_count": 475,
   "id": "d9331dd6-a92c-4474-b324-2b3b40362342",
   "metadata": {},
   "outputs": [
    {
     "name": "stdout",
     "output_type": "stream",
     "text": [
      "[[[ 7 14 21]\n",
      "  [32 40 48]]\n",
      "\n",
      " [[ 9 18 27]\n",
      "  [40 50 60]]]\n"
     ]
    }
   ],
   "source": [
    "#Q40. Given arrays arr1 of shape (2, 3) and arr2 of shape (2, 2), perform multiplication using NumPy broadcasting. Handle the shape incompatibility.\n",
    "arr1=np.array([[1,2,3],[4,5,6]])\n",
    "arr2=np.array([[7,8],[9,10]])\n",
    "print(arr1*arr2[:,:,np.newaxis])"
   ]
  },
  {
   "cell_type": "code",
   "execution_count": 476,
   "id": "cd226f3a-5778-4d13-9cf1-fbacb56a127f",
   "metadata": {},
   "outputs": [
    {
     "name": "stdout",
     "output_type": "stream",
     "text": [
      "[2.5 3.5 4.5]\n"
     ]
    }
   ],
   "source": [
    "#Q41. Calculate column wise mean for the given array:\n",
    "arr = np.array([[1, 2, 3], [4, 5, 6]])\n",
    "print(np.mean(arr,axis=0))"
   ]
  },
  {
   "cell_type": "code",
   "execution_count": 477,
   "id": "a4d71e19-6af2-4b2c-955a-3b192dc98bfb",
   "metadata": {},
   "outputs": [
    {
     "name": "stdout",
     "output_type": "stream",
     "text": [
      "[3 6]\n"
     ]
    }
   ],
   "source": [
    "#Q42. Find maximum value in each row of the given array:\n",
    "arr = np.array([[1, 2, 3], [4, 5, 6]])\n",
    "print(np.max(arr,axis=1))"
   ]
  },
  {
   "cell_type": "code",
   "execution_count": 478,
   "id": "e414b5e1-41a0-462f-b5e0-8537003168db",
   "metadata": {},
   "outputs": [
    {
     "name": "stdout",
     "output_type": "stream",
     "text": [
      "[1 1 1]\n"
     ]
    }
   ],
   "source": [
    "#Q43. For the given array, find indices of maximum value in each column.\n",
    "arr = np.array([[1, 2, 3], [4, 5, 6]])\n",
    "print(np.argmax(arr,axis=0))\n"
   ]
  },
  {
   "cell_type": "code",
   "execution_count": 479,
   "id": "066d9a83-5d7c-4b5d-b5ce-0a29a46664f4",
   "metadata": {},
   "outputs": [
    {
     "name": "stdout",
     "output_type": "stream",
     "text": [
      "[[ 1  3  6]\n",
      " [ 4  9 15]]\n"
     ]
    }
   ],
   "source": [
    "#Q44. For the given array, apply custom function to calculate moving sum along rows.\n",
    "arr = np.array([[1, 2, 3], [4, 5, 6]])\n",
    "print(np.cumsum(arr,axis=1))"
   ]
  },
  {
   "cell_type": "code",
   "execution_count": 480,
   "id": "c5278523-a75e-4d48-8bcf-61e36f0ed7db",
   "metadata": {},
   "outputs": [
    {
     "name": "stdout",
     "output_type": "stream",
     "text": [
      "[False False False]\n"
     ]
    }
   ],
   "source": [
    "#Q45. In the given array, check if all elements in each column are even.\n",
    "arr = np.array([[2, 4, 6], [3, 5, 7]])\n",
    "print(np.all(arr%2==0,axis=0))"
   ]
  },
  {
   "cell_type": "code",
   "execution_count": 481,
   "id": "c7d2bedd-4de6-492f-bd21-0957891e8ba9",
   "metadata": {},
   "outputs": [
    {
     "name": "stdout",
     "output_type": "stream",
     "text": [
      "[[1 2 3]\n",
      " [4 5 6]]\n"
     ]
    }
   ],
   "source": [
    "#Q46. Given a NumPy array arr, reshape it into a matrix of dimensions `m` rows and `n` columns. Return the reshaped matrix.\n",
    "original_array = np.array([1, 2, 3, 4, 5, 6])\n",
    "def reshape_array(arr,m,n):\n",
    "    return arr.reshape(m,n)\n",
    "print(reshape_array(original_array,2,3))\n",
    "\n"
   ]
  },
  {
   "cell_type": "code",
   "execution_count": 482,
   "id": "2ecac7be-494e-46fb-9961-fb69964eb91d",
   "metadata": {},
   "outputs": [
    {
     "name": "stdout",
     "output_type": "stream",
     "text": [
      "[1 2 3 4 5 6]\n"
     ]
    }
   ],
   "source": [
    "#Q47. Create a function that takes a matrix as input and returns the flattened array.\n",
    "input_matrix = np.array([[1, 2, 3], [4, 5, 6]])\n",
    "def flatten_matrix(matrix):\n",
    "    return matrix.flatten()\n",
    "print(flatten_matrix(input_matrix))\n",
    "\n"
   ]
  },
  {
   "cell_type": "code",
   "execution_count": 483,
   "id": "0f0060a2-ab2a-4ac9-9b07-1f7eb2f5770b",
   "metadata": {},
   "outputs": [
    {
     "name": "stdout",
     "output_type": "stream",
     "text": [
      "rows: [[1 2]\n",
      " [3 4]\n",
      " [5 6]\n",
      " [7 8]]\n",
      "columns: [[1 2 5 6]\n",
      " [3 4 7 8]]\n"
     ]
    }
   ],
   "source": [
    "#Q48. Write a function that concatenates two given arrays along a specified axis.\n",
    "array1 = np.array([[1, 2], [3, 4]])\n",
    "array2 = np.array([[5, 6], [7, 8]])\n",
    "def concat_arrays(arr1,arr2,axis=0):\n",
    "    return np.concatenate((arr1, arr2),axis=axis)\n",
    "concat_result_rows=concat_arrays(array1,array2,axis=0)\n",
    "print(\"rows:\",concat_result_rows)\n",
    "concat_result_cols=concat_arrays(array1,array2,axis=1)\n",
    "print(\"columns:\",concat_result_cols)\n",
    "\n"
   ]
  },
  {
   "cell_type": "code",
   "execution_count": 484,
   "id": "9c06990e-6134-4055-8a76-a91c62bc7ae7",
   "metadata": {},
   "outputs": [
    {
     "name": "stdout",
     "output_type": "stream",
     "text": [
      "Splited rows: [array([[1, 2, 3]]), array([[4, 5, 6]]), array([[7, 8, 9]])]\n",
      "Splited columns: [array([[1],\n",
      "       [4],\n",
      "       [7]]), array([[2],\n",
      "       [5],\n",
      "       [8]]), array([[3],\n",
      "       [6],\n",
      "       [9]])]\n"
     ]
    }
   ],
   "source": [
    "#Q49. Create a function that splits an array into multiple sub-arrays along a specified axis.\n",
    "original_array = np.array([[1, 2, 3], [4, 5, 6], [7, 8, 9]])\n",
    "def easy_split_array(arr,num_splits,axis=0):\n",
    "    return np.array_split(arr, num_splits,axis=axis)\n",
    "split_rows=easy_split_array(original_array,3,axis=0)\n",
    "print(\"Splited rows:\", split_rows)\n",
    "split_cols=easy_split_array(original_array,3,axis=1)\n",
    "print(\"Splited columns:\",split_cols)\n",
    "\n",
    "\n",
    "\n",
    "\n"
   ]
  },
  {
   "cell_type": "code",
   "execution_count": 485,
   "id": "06ceba9f-fc21-457f-ab4b-7d3c6846a60f",
   "metadata": {},
   "outputs": [
    {
     "name": "stdout",
     "output_type": "stream",
     "text": [
      "[ 1 10  4 11  5]\n"
     ]
    }
   ],
   "source": [
    "#Q50. Write a function that inserts and then deletes elements from a given array at specified indices.\n",
    "original_array = np.array([1, 2, 3, 4, 5])\n",
    "indices_to_insert = [2, 4]\n",
    "values_to_insert = [10, 11]\n",
    "indices_to_delete = [1, 3]\n",
    "\n",
    "def modify_array(arr,indices_to_insert,values_to_insert,indices_to_delete):\n",
    "    arr=np.insert(arr,indices_to_insert, values_to_insert)\n",
    "    arr=np.delete(arr,indices_to_delete)\n",
    "    return arr\n",
    "print(modify_array(original_array,indices_to_insert,values_to_insert,indices_to_delete))\n",
    "\n",
    "\n",
    "\n",
    "\n",
    "\n",
    "\n"
   ]
  },
  {
   "cell_type": "code",
   "execution_count": 486,
   "id": "bb40e211-0aa4-4ac0-acb0-3a19ea15bd18",
   "metadata": {},
   "outputs": [
    {
     "name": "stdout",
     "output_type": "stream",
     "text": [
      "arr1: [21 82 20 62 92 69 38 58 36 61]\n",
      "arr2: [ 1  2  3  4  5  6  7  8  9 10]\n",
      "addition of 2 arrays: [22 84 23 66 97 75 45 66 45 71]\n"
     ]
    }
   ],
   "source": [
    "#Q51. Create a NumPy array `arr1` with random integers and another array `arr2` with integers from 1 to 10. Perform element-wise addition between `arr1` and `arr2`.\n",
    "arr1=np.random.randint(1,100,size=10)\n",
    "arr2=np.arange(1,11)\n",
    "add=arr1+arr2\n",
    "print(\"arr1:\",arr1)\n",
    "print(\"arr2:\",arr2)\n",
    "print(\"addition of 2 arrays:\",add)\n"
   ]
  },
  {
   "cell_type": "code",
   "execution_count": 487,
   "id": "db7d542d-d278-4a2d-858a-92538be08fd9",
   "metadata": {},
   "outputs": [
    {
     "name": "stdout",
     "output_type": "stream",
     "text": [
      "[ 9  7  5  3  1 -1 -3 -5 -7 -9]\n"
     ]
    }
   ],
   "source": [
    "#Q52. Generate a NumPy array `arr1` with sequential integers from 10 to 1 and another array `arr2` with integers from 1 to 10. Subtract `arr2` from `arr1` element-wise.\n",
    "arr1=np.arange(10, 0, -1)\n",
    "arr2=np.arange(1, 11)\n",
    "sub=arr1-arr2\n",
    "print(sub)\n"
   ]
  },
  {
   "cell_type": "code",
   "execution_count": 488,
   "id": "777ab58d-d804-4cb1-912a-6838de51e7bc",
   "metadata": {},
   "outputs": [
    {
     "name": "stdout",
     "output_type": "stream",
     "text": [
      "arr1: [9 9 2 9 8]\n",
      "arr2 [1 2 3 4 5]\n",
      "multiplication of arrays: [ 9 18  6 36 40]\n"
     ]
    }
   ],
   "source": [
    "#Q53. Create a NumPy array `arr1` with random integers and another array `arr2` with integers from 1 to 5. Perform element-wise multiplication between `arr1` and `arr2`.\n",
    "arr1=np.random.randint(1,10,size=5)\n",
    "arr2=np.arange(1,6)\n",
    "mul=arr1*arr2\n",
    "print(\"arr1:\",arr1)\n",
    "print(\"arr2\",arr2)\n",
    "print(\"multiplication of arrays:\",mul)"
   ]
  },
  {
   "cell_type": "code",
   "execution_count": 489,
   "id": "08e8081e-05ae-4e7c-84cb-656a1a6960ae",
   "metadata": {},
   "outputs": [
    {
     "name": "stdout",
     "output_type": "stream",
     "text": [
      "[2. 2. 2. 2. 2.]\n"
     ]
    }
   ],
   "source": [
    "#Q54. Generate a NumPy array `arr1` with even integers from 2 to 10 and another array `arr2` with integers from 1 to 5. Perform element-wise division of `arr1` by `arr2`.\n",
    "arr1=np.arange(2,11,2)\n",
    "arr2=np.arange(1,6)\n",
    "div=arr1/arr2\n",
    "print(div)\n",
    "\n",
    "\n",
    "\n"
   ]
  },
  {
   "cell_type": "code",
   "execution_count": 490,
   "id": "ffe38f13-4bf8-42ce-8fe9-1f7c20666123",
   "metadata": {},
   "outputs": [
    {
     "name": "stdout",
     "output_type": "stream",
     "text": [
      "[ 1 16 27 16  5]\n"
     ]
    }
   ],
   "source": [
    "#Q55. Create a NumPy array `arr1` with integers from 1 to 5 and another array `arr2` with the same numbers reversed. Calculate the exponentiation of `arr1` raised to the power of `arr2` element-wise.\n",
    "arr1=np.arange(1,6)\n",
    "arr2=arr1[::-1]\n",
    "result=np.power(arr1,arr2)\n",
    "print(result)\n"
   ]
  },
  {
   "cell_type": "code",
   "execution_count": 491,
   "id": "29d4ac06-e2b2-45f9-89a1-43dbdc5244e9",
   "metadata": {},
   "outputs": [
    {
     "name": "stdout",
     "output_type": "stream",
     "text": [
      "3\n"
     ]
    }
   ],
   "source": [
    "#Q56. Write a function that counts the occurrences of a specific substring within a NumPy array of strings.\n",
    "arr = np.array(['hello', 'world', 'hello', 'numpy', 'hello'])\n",
    "def count_substring(arr,substring):\n",
    "    count=0\n",
    "    for i in arr:\n",
    "        count+=i.count(substring)\n",
    "    return count\n",
    "substring='hello'\n",
    "result=count_substring(arr,substring)\n",
    "print(result)\n"
   ]
  },
  {
   "cell_type": "code",
   "execution_count": 492,
   "id": "43e63223-6e1f-430e-b89e-7b9cb50cc5e5",
   "metadata": {},
   "outputs": [
    {
     "name": "stdout",
     "output_type": "stream",
     "text": [
      "['H' 'W' 'OAI' 'GPT']\n"
     ]
    }
   ],
   "source": [
    "#Q57. Write a function that extracts uppercase characters from a NumPy array of strings.\n",
    "arr = np.array(['Hello', 'World', 'OpenAI', 'GPT'])\n",
    "def extract_uppercase(arr):\n",
    "    return np.array([''.join([char for char in string if char.isupper()]) for string in arr])\n",
    "print(extract_uppercase(arr))\n",
    "\n",
    "\n"
   ]
  },
  {
   "cell_type": "code",
   "execution_count": 493,
   "id": "d7a387c4-ec4e-4291-8458-83e89c14aca2",
   "metadata": {},
   "outputs": [
    {
     "name": "stdout",
     "output_type": "stream",
     "text": [
      "['fruit' 'banana' 'grape' 'pinefruit']\n"
     ]
    }
   ],
   "source": [
    "#Q58. Write a function that replaces occurrences of a substring in a NumPy array of strings with a new string.\n",
    "arr = np.array(['apple', 'banana', 'grape', 'pineapple'])\n",
    "def replace_substring(arr,old_substring,new_substring):\n",
    "    return np.char.replace(arr,old_substring,new_substring)\n",
    "new_arr=replace_substring(arr,'apple','fruit')\n",
    "print(new_arr)\n",
    "\n"
   ]
  },
  {
   "cell_type": "code",
   "execution_count": 494,
   "id": "64dd0fa9-6959-4787-8b5e-76aeec71d807",
   "metadata": {},
   "outputs": [
    {
     "name": "stdout",
     "output_type": "stream",
     "text": [
      "['HelloOpen' 'WorldAI']\n"
     ]
    }
   ],
   "source": [
    "#Q59. Write a function that concatenates strings in a NumPy array element-wise.\n",
    "arr1 = np.array(['Hello', 'World'])\n",
    "arr2 = np.array(['Open', 'AI'])\n",
    "def concatenate_arrays(arr1,arr2):\n",
    "    return arr1+arr2\n",
    "print(concatenate_arrays(arr1,arr2))\n",
    "\n"
   ]
  },
  {
   "cell_type": "code",
   "execution_count": 495,
   "id": "d42744b3-205d-4c86-af9c-d9b38549b4a8",
   "metadata": {},
   "outputs": [
    {
     "name": "stdout",
     "output_type": "stream",
     "text": [
      "Length of the longest string: 9\n"
     ]
    }
   ],
   "source": [
    "#Q60. Write a function that finds the length of the longest string in a NumPy array.\n",
    "arr = np.array(['apple', 'banana', 'grape', 'pineapple'])\n",
    "def length_of_longest_string(arr):\n",
    "    length=0\n",
    "    for i in arr:\n",
    "        if len(i)>length:\n",
    "            length=len(i)\n",
    "    return length\n",
    "print(\"Length of the longest string:\",length_of_longest_string(arr))\n",
    "      "
   ]
  },
  {
   "cell_type": "code",
   "execution_count": 496,
   "id": "e8cdc484-a1dd-4dee-9220-2ea4d209544e",
   "metadata": {},
   "outputs": [
    {
     "name": "stdout",
     "output_type": "stream",
     "text": [
      "mean: 534.31\n",
      "median: 552.0\n",
      "variance 93132.13390000003\n",
      "standard deviation : 305.1755788066929\n"
     ]
    }
   ],
   "source": [
    "#Q61. Create a dataset of 100 random integers between 1 and 1000. Compute the mean, median, variance, and standard deviation of the dataset using NumPy's functions.\n",
    "dataset=np.random.randint(1,1001,size=100)\n",
    "print(\"mean:\",np.mean(dataset))\n",
    "print(\"median:\",np.median(dataset))\n",
    "print(\"variance\",np.var(dataset))\n",
    "print(\"standard deviation :\",np.std(dataset))"
   ]
  },
  {
   "cell_type": "code",
   "execution_count": 497,
   "id": "08ebc188-b1e9-45a8-af03-8d4f19fc4ad7",
   "metadata": {},
   "outputs": [
    {
     "name": "stdout",
     "output_type": "stream",
     "text": [
      "25th percentile: 24.5\n",
      "75th percentile: 75.0\n"
     ]
    }
   ],
   "source": [
    "#Q62. Generate an array of 50 random numbers between 1 and 100. Find the 25th and 75th percentiles of the dataset.\n",
    "arr=np.random.randint(1,100,size=50)\n",
    "percentiles=np.percentile(arr,[25,75])\n",
    "print(\"25th percentile:\",percentiles[0])\n",
    "print(\"75th percentile:\",percentiles[1])"
   ]
  },
  {
   "cell_type": "code",
   "execution_count": 498,
   "id": "2647a7ee-5a72-41cf-81fc-63c60c8d87c9",
   "metadata": {},
   "outputs": [
    {
     "name": "stdout",
     "output_type": "stream",
     "text": [
      "[[1. 1.]\n",
      " [1. 1.]]\n"
     ]
    }
   ],
   "source": [
    "#Q63. Create two arrays representing two sets of variables. Compute the correlation coefficient between these arrays using NumPy's `corrcoef` function.\n",
    "arr1=np.array([1,2,3,4,5])\n",
    "arr2=np.array([10, 20, 30, 40, 50])\n",
    "correlation_matrix=np.corrcoef(arr1,arr2)\n",
    "print(correlation_matrix)\n"
   ]
  },
  {
   "cell_type": "code",
   "execution_count": 499,
   "id": "3491ee89-0eba-4f4b-9cc0-8021704a3d5d",
   "metadata": {},
   "outputs": [
    {
     "name": "stdout",
     "output_type": "stream",
     "text": [
      "[[ 29  32  35  38]\n",
      " [ 65  72  79  86]\n",
      " [101 112 123 134]]\n"
     ]
    }
   ],
   "source": [
    "#Q64. Create two matrices and perform matrix multiplication using NumPy's `dot` function.\n",
    "C=np.matrix([[1,2],[3,4],[5,6]])\n",
    "D=np.matrix([[7,8,9,10],[11,12,13,14]])\n",
    "multiplication=np.dot(C,D)\n",
    "print(multiplication)"
   ]
  },
  {
   "cell_type": "code",
   "execution_count": 500,
   "id": "77adabfd-9875-4b47-b43c-c374fc7e5840",
   "metadata": {},
   "outputs": [
    {
     "name": "stdout",
     "output_type": "stream",
     "text": [
      "10th percentile: 75.7\n",
      "50th percentile (median): 509.0\n",
      "90th percentile: 890.7\n",
      "1st quartile (25th percentile): 164.75\n",
      "3rd quartile (75th percentile): 824.25\n"
     ]
    },
    {
     "data": {
      "text/plain": [
       "array([852, 943, 279, 143, 608, 213, 196, 111, 977, 537,  87, 185, 131,\n",
       "       237, 531,  78, 681,  90, 723, 849, 154, 971, 723,  11, 792, 942,\n",
       "       337,  55, 840,  15, 719,  51, 493,  36, 834, 338, 798, 402, 464,\n",
       "       957, 885, 878, 738, 858, 833, 525, 262, 736, 277, 158], dtype=int32)"
      ]
     },
     "execution_count": 500,
     "metadata": {},
     "output_type": "execute_result"
    }
   ],
   "source": [
    "#Q65. Create an array of 50 integers between 10 and 1000. Calculate the 10th, 50th (median), and 90th percentiles along with the first and third quartiles.\n",
    "arr=np.random.randint(10,1001,size=50)\n",
    "percentiles=np.percentile(arr,[10,50,90,25,75])\n",
    "print(\"10th percentile:\",percentiles[0])\n",
    "print(\"50th percentile (median):\",percentiles[1])\n",
    "print(\"90th percentile:\",percentiles[2])\n",
    "print(\"1st quartile (25th percentile):\",percentiles[3])\n",
    "print(\"3rd quartile (75th percentile):\",percentiles[4])\n",
    "\n",
    "arr"
   ]
  },
  {
   "cell_type": "code",
   "execution_count": 501,
   "id": "3fb23d3b-5bea-49f6-95d0-966062934c15",
   "metadata": {},
   "outputs": [
    {
     "name": "stdout",
     "output_type": "stream",
     "text": [
      "Index of 30: 2\n"
     ]
    }
   ],
   "source": [
    "#Q66. Create a NumPy array of integers and find the index of a specific element.\n",
    "arr=np.array([10,20,30,40,50])\n",
    "index=np.where(arr==30)[0][0]\n",
    "print(\"Index of 30:\",index)\n",
    "\n"
   ]
  },
  {
   "cell_type": "code",
   "execution_count": 502,
   "id": "83482e82-50e7-4ccd-9b41-99e4887b42fe",
   "metadata": {},
   "outputs": [
    {
     "name": "stdout",
     "output_type": "stream",
     "text": [
      "array: [20 34 22 36  3 11 49 10 27 35]\n",
      "sorted array [ 3 10 11 20 22 27 34 35 36 49]\n"
     ]
    }
   ],
   "source": [
    "#Q67. Generate a random NumPy array and sort it in ascending order.\n",
    "arr=np.random.randint(1,50,size=10)\n",
    "print(\"array:\",arr)\n",
    "print(\"sorted array\",np.sort(arr))\n",
    "\n",
    "\n",
    "\n",
    "\n"
   ]
  },
  {
   "cell_type": "code",
   "execution_count": 503,
   "id": "3d11c96c-a8b3-405a-8779-183bd74ddb9e",
   "metadata": {},
   "outputs": [
    {
     "name": "stdout",
     "output_type": "stream",
     "text": [
      "[25 42 30]\n"
     ]
    }
   ],
   "source": [
    "#Q68. Filter elements >20  in the given NumPy array.\n",
    "arr = np.array([12, 25, 6, 42, 8, 30])\n",
    "filtered_arr=arr[(arr>20)]\n",
    "print(filtered_arr)"
   ]
  },
  {
   "cell_type": "code",
   "execution_count": 504,
   "id": "0b6029e4-ce91-4179-affb-06b4d4a3d433",
   "metadata": {},
   "outputs": [
    {
     "name": "stdout",
     "output_type": "stream",
     "text": [
      "[12 15]\n"
     ]
    }
   ],
   "source": [
    "#Q69. Filter elements which are divisible by 3 from a given NumPy array.\n",
    "arr = np.array([1, 5, 8, 12, 15])\n",
    "filtered_arr=arr[arr%3==0]\n",
    "print(filtered_arr)\n"
   ]
  },
  {
   "cell_type": "code",
   "execution_count": 505,
   "id": "b9df5ff7-96db-4183-bb25-57c8041fe323",
   "metadata": {},
   "outputs": [
    {
     "name": "stdout",
     "output_type": "stream",
     "text": [
      "[20 30 40]\n"
     ]
    }
   ],
   "source": [
    "#Q70. Filter elements which are ≥ 20 and ≤ 40 from a given NumPy array.\n",
    "arr = np.array([10, 20, 30, 40, 50])\n",
    "filtered_arr=arr[(arr>=20)&(arr<=40)]\n",
    "print(filtered_arr)\n"
   ]
  },
  {
   "cell_type": "code",
   "execution_count": 506,
   "id": "5e237dc7-b619-4af8-8df9-7cf85d5d2037",
   "metadata": {},
   "outputs": [
    {
     "name": "stdout",
     "output_type": "stream",
     "text": [
      "byte_order: =\n"
     ]
    }
   ],
   "source": [
    "#Q71. For the given NumPy array, check its byte order using the `dtype` attribute byteorder.\n",
    "arr = np.array([1, 2, 3])\n",
    "byte_order=arr.dtype.byteorder\n",
    "print(\"byte_order:\",byte_order)"
   ]
  },
  {
   "cell_type": "code",
   "execution_count": 507,
   "id": "886ca7d3-21ad-4f41-b384-2cd463a079c6",
   "metadata": {},
   "outputs": [
    {
     "name": "stdout",
     "output_type": "stream",
     "text": [
      "Byte-swapped array: [16777216 33554432 50331648]\n"
     ]
    }
   ],
   "source": [
    "#Q72. For the given NumPy array, perform byte swapping in place using `byteswap()`.\n",
    "arr = np.array([1, 2, 3], dtype=np.int32)\n",
    "arr.byteswap(inplace=True)\n",
    "print(\"Byte-swapped array:\",arr)\n"
   ]
  },
  {
   "cell_type": "code",
   "execution_count": 508,
   "id": "dd37e757-e332-4321-a66f-cd9e1872d97c",
   "metadata": {},
   "outputs": [
    {
     "name": "stdout",
     "output_type": "stream",
     "text": [
      "Original array: [1 2 3]\n",
      "Byte-swapped array: [16777216 33554432 50331648]\n"
     ]
    }
   ],
   "source": [
    "#Q73. For the given NumPy array, swap its byte order without modifying the original array using `newbyteorder()`.\n",
    "arr = np.array([1, 2, 3],dtype=np.int32)\n",
    "byte_swapped_arr = arr.view(arr.dtype.newbyteorder())\n",
    "print(\"Original array:\", arr)\n",
    "print(\"Byte-swapped array:\", byte_swapped_arr)\n"
   ]
  },
  {
   "cell_type": "code",
   "execution_count": 509,
   "id": "907660cf-db6d-48ed-aa45-20ccf481a531",
   "metadata": {},
   "outputs": [
    {
     "name": "stdout",
     "output_type": "stream",
     "text": [
      "Original array: [1 2 3]\n",
      "Byte-swapped array: [16777216 33554432 50331648]\n"
     ]
    }
   ],
   "source": [
    "#Q74. For the given NumPy array and swap its byte order conditionally based on system endianness using `newbyteorder()`.\n",
    "arr=np.array([1, 2, 3],dtype=np.int32)\n",
    "new_arr=arr.view(arr.dtype.newbyteorder())\n",
    "print(\"Original array:\",arr)\n",
    "print(\"Byte-swapped array:\",new_arr)\n"
   ]
  },
  {
   "cell_type": "code",
   "execution_count": 510,
   "id": "ee20b432-eace-4c42-8536-91edf04ee49b",
   "metadata": {},
   "outputs": [
    {
     "name": "stdout",
     "output_type": "stream",
     "text": [
      "Byte order: =\n"
     ]
    }
   ],
   "source": [
    "#Q75. For the given NumPy array, check if byte swapping is necessary for the current system using `dtype` attribute `byteorder`.\n",
    "arr=np.array([1, 2, 3],dtype=np.int32)\n",
    "print(\"Byte order:\",arr.dtype.byteorder)\n",
    "#If the byte order is =,it means no byte swapping is necessary.\n"
   ]
  },
  {
   "cell_type": "code",
   "execution_count": 511,
   "id": "d8369ddc-128f-41ee-9f95-18dbfbe412fd",
   "metadata": {},
   "outputs": [
    {
     "name": "stdout",
     "output_type": "stream",
     "text": [
      "original array [ 1  2  3  4  5  6  7  8  9 10]\n",
      "copy of array after modification: [ 1  2  3  9  5  6  7  8  9 10]\n",
      "original array after modification: [ 1  2  3  4  5  6  7  8  9 10]\n"
     ]
    }
   ],
   "source": [
    "#Q76. Create a NumPy array `arr1` with values from 1 to 10. Create a copy of `arr1` named `copy_arr` and modify an element in `copy_arr`. Check if modifying `copy_arr` affects `arr1`.\n",
    "arr1=np.arange(1,11)\n",
    "print(\"original array\",arr1)\n",
    "copy_arr=arr1.copy()\n",
    "copy_arr[3]=9\n",
    "print(\"copy of array after modification:\",copy_arr)\n",
    "#it doesnt affect the original array\n",
    "print(\"original array after modification:\",arr1)"
   ]
  },
  {
   "cell_type": "code",
   "execution_count": 512,
   "id": "389f3aad-efae-4bca-9375-199f7282af8b",
   "metadata": {},
   "outputs": [
    {
     "name": "stdout",
     "output_type": "stream",
     "text": [
      "original matrix: [[3 9 1]\n",
      " [5 6 5]\n",
      " [1 8 7]]\n",
      "sliced view_slice [1 5 7]\n",
      "modified view_slice [1 5 7]\n",
      "original matrix after modification: [[3 9 1]\n",
      " [5 6 5]\n",
      " [1 8 7]]\n"
     ]
    }
   ],
   "source": [
    "#Q77. Create a 2D NumPy array `matrix` of shape (3, 3) with random integers. Extract a slice `view_slice` from the matrix. Modify an element in `view_slice` and observe if it changes the original `matrix`.\n",
    "matrix=np.random.randint(1,11,size=(3, 3))\n",
    "print(\"original matrix:\",matrix)\n",
    "view_slice=matrix[:,2]\n",
    "print(\"sliced view_slice\",view_slice)\n",
    "view_slice[1]=5\n",
    "print(\"modified view_slice\",view_slice)\n",
    "#it modifies the original matrix also\n",
    "print(\"original matrix after modification:\",matrix)"
   ]
  },
  {
   "cell_type": "code",
   "execution_count": 513,
   "id": "cb1ec013-f39c-4200-9574-e374a3c5385a",
   "metadata": {},
   "outputs": [
    {
     "name": "stdout",
     "output_type": "stream",
     "text": [
      "original array: [[ 1  2  3]\n",
      " [ 4  5  6]\n",
      " [ 7  8  9]\n",
      " [10 11 12]]\n",
      "Sliced view_b: [ 2  5  8 11]\n",
      "Updated  array after addition of 5: [ 7 10 13 16]\n",
      "Original array after alteration: [[ 1  7  3]\n",
      " [ 4 10  6]\n",
      " [ 7 13  9]\n",
      " [10 16 12]]\n"
     ]
    }
   ],
   "source": [
    "#Q78. Create a NumPy array `array_a` of shape (4, 3) with sequential integers from 1 to 12. Extract a slice `view_b` from `array_a` and broadcast the addition of 5 to view_b. Check if it alters the original `array_a`.\n",
    "array_a=np.arange(1, 13).reshape(4, 3)\n",
    "print(\"original array:\",array_a)\n",
    "view_b = array_a[:,1]  \n",
    "print(\"Sliced view_b:\",view_b)\n",
    "view_b+= 5\n",
    "print(\"Updated  array after addition of 5:\",view_b)\n",
    "#it modifies the original array\n",
    "print(\"Original array after alteration:\",array_a)\n"
   ]
  },
  {
   "cell_type": "code",
   "execution_count": 514,
   "id": "1973a8c3-21e2-40b4-ad67-feb157101869",
   "metadata": {},
   "outputs": [
    {
     "name": "stdout",
     "output_type": "stream",
     "text": [
      "original array: [[3 6 1 4]\n",
      " [4 2 6 6]]\n",
      "reshaped array: [[3 6]\n",
      " [1 4]\n",
      " [4 2]\n",
      " [6 6]]\n",
      "modified reshaped array: [[3 6]\n",
      " [5 5]\n",
      " [4 2]\n",
      " [6 6]]\n",
      "original array after changes: [[3 6 5 5]\n",
      " [4 2 6 6]]\n"
     ]
    }
   ],
   "source": [
    "#Q79. Create a NumPy array `orig_array` of shape (2, 4) with values from 1 to 8. Create a reshaped view `reshaped_view` of shape (4, 2) from orig_array. Modify an element in `reshaped_view` and check if it reflects changes in the original `orig_array`.\n",
    "orig_array=np.random.randint(1,8,size=(2, 4))\n",
    "print(\"original array:\",orig_array)\n",
    "reshaped_view=orig_array.reshape(4,2)\n",
    "print(\"reshaped array:\",reshaped_view)\n",
    "reshaped_view[1]=5\n",
    "print(\"modified reshaped array:\",reshaped_view)\n",
    "#the changes is reflected in original array\n",
    "print(\"original array after changes:\",orig_array)\n"
   ]
  },
  {
   "cell_type": "code",
   "execution_count": 515,
   "id": "0b52cc79-8692-4064-a479-be686be3f7d0",
   "metadata": {},
   "outputs": [
    {
     "name": "stdout",
     "output_type": "stream",
     "text": [
      "[[7 3 7 5]\n",
      " [6 9 5 5]\n",
      " [7 9 2 7]]\n",
      "copy of data >5: [7 7 6 9 7 9 7]\n",
      "modified  data_copy: [  7 500   6   9   7   9   7]\n",
      "original data after modification: [[7 3 7 5]\n",
      " [6 9 5 5]\n",
      " [7 9 2 7]]\n"
     ]
    }
   ],
   "source": [
    "#Q80. Create a NumPy array `data` of shape (3, 4) with random integers. Extract a copy `data_copy` of elements greater than 5. Modify an element in `data_copy` and verify if it affects the original `data`.\n",
    "data=np.random.randint(1,11,size=(3, 4))\n",
    "print(data)\n",
    "data_copy=data[data>5].copy()\n",
    "print(\"copy of data >5:\",data_copy)\n",
    "data_copy[1]=500\n",
    "print(\"modified  data_copy:\",data_copy)\n",
    "#it doesnt affect the value of original data\n",
    "print(\"original data after modification:\",data)\n",
    "\n"
   ]
  },
  {
   "cell_type": "code",
   "execution_count": 516,
   "id": "805ba9c6-fcb2-44b6-bc39-eb50d1549797",
   "metadata": {},
   "outputs": [
    {
     "name": "stdout",
     "output_type": "stream",
     "text": [
      "[[ 6  8 10]\n",
      " [12 14  7]\n",
      " [10 12 11]]\n",
      "[[-4 -4 -4]\n",
      " [-4 -4  5]\n",
      " [ 4  4  7]]\n"
     ]
    }
   ],
   "source": [
    "#Q81. Create two matrices A and B of identical shape containing integers and perform addition and subtraction operations between them.\n",
    "A=np.matrix([[1,2,3],\n",
    "            [4,5,6],\n",
    "            [7,8,9]])\n",
    "B=np.matrix([[5,6,7],\n",
    "           [8,9,1],\n",
    "           [3,4,2]])\n",
    "add=A+B\n",
    "sub=A-B\n",
    "print(add)\n",
    "print(sub)\n"
   ]
  },
  {
   "cell_type": "code",
   "execution_count": 517,
   "id": "f327de89-31ce-4ea1-9ac2-49c87740087a",
   "metadata": {},
   "outputs": [
    {
     "name": "stdout",
     "output_type": "stream",
     "text": [
      "[[ 29  32  35  38]\n",
      " [ 65  72  79  86]\n",
      " [101 112 123 134]]\n",
      "[[ 29  32  35  38]\n",
      " [ 65  72  79  86]\n",
      " [101 112 123 134]]\n"
     ]
    }
   ],
   "source": [
    "#Q82. Generate two matrices `C` (3x2) and `D` (2x4) and perform matrix multiplication.\n",
    "C=np.matrix([[1,2],[3,4],[5,6]])\n",
    "D=np.matrix([[7,8,9,10],[11,12,13,14]])\n",
    "mul=C@D\n",
    "print(mul)\n",
    "#or\n",
    "multi=np.dot(C,D)\n",
    "print(multi)"
   ]
  },
  {
   "cell_type": "code",
   "execution_count": 518,
   "id": "940ad406-088c-40a6-a260-5a65bbcf6db4",
   "metadata": {},
   "outputs": [
    {
     "name": "stdout",
     "output_type": "stream",
     "text": [
      "[[1 4 7]\n",
      " [2 5 8]\n",
      " [3 6 9]]\n"
     ]
    }
   ],
   "source": [
    "#Q83. Create a matrix `E` and find its transpose.\n",
    "E=np.matrix([[1,2,3],\n",
    "            [4,5,6],\n",
    "            [7,8,9]])\n",
    "transpose=(E.T)\n",
    "print(transpose)"
   ]
  },
  {
   "cell_type": "code",
   "execution_count": 519,
   "id": "e522bcfa-f215-4987-a427-21bbb89b7bb2",
   "metadata": {},
   "outputs": [
    {
     "name": "stdout",
     "output_type": "stream",
     "text": [
      "determinant of F: 27.0\n"
     ]
    }
   ],
   "source": [
    "#Q84. Generate a square matrix `F` and compute its determinant.\n",
    "F=np.matrix([[5,6,7],\n",
    "           [8,9,1],\n",
    "           [3,4,2]])\n",
    "F_determinant=np.linalg.det(F)\n",
    "print(\"determinant of F:\",F_determinant)"
   ]
  },
  {
   "cell_type": "code",
   "execution_count": 520,
   "id": "b5873bf3-1766-46b7-ac32-6bd2c2978045",
   "metadata": {},
   "outputs": [
    {
     "name": "stdout",
     "output_type": "stream",
     "text": [
      "Inverse of G:\n",
      "[[ 1.44444444 -1.22222222 -0.55555556]\n",
      " [-0.77777778  0.88888889  0.22222222]\n",
      " [ 0.33333333 -0.66666667  0.33333333]]\n"
     ]
    }
   ],
   "source": [
    "#Q85. Create a square matrix `G` and find its inverse.\n",
    "G=np.matrix([[4, 7, 2],\n",
    "            [3, 6, 1],\n",
    "            [2, 5, 3]])\n",
    "G_inverse=np.linalg.inv(G)\n",
    "print(\"Inverse of G:\")\n",
    "print(G_inverse)\n"
   ]
  }
 ],
 "metadata": {
  "kernelspec": {
   "display_name": "Python 3",
   "language": "python",
   "name": "python3"
  },
  "language_info": {
   "codemirror_mode": {
    "name": "ipython",
    "version": 3
   },
   "file_extension": ".py",
   "mimetype": "text/x-python",
   "name": "python",
   "nbconvert_exporter": "python",
   "pygments_lexer": "ipython3",
   "version": "3.10.0"
  }
 },
 "nbformat": 4,
 "nbformat_minor": 5
}
